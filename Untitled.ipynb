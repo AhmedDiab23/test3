{
 "cells": [
  {
   "cell_type": "code",
   "execution_count": 4,
   "id": "99903e6e",
   "metadata": {},
   "outputs": [
    {
     "name": "stdout",
     "output_type": "stream",
     "text": [
      "enter your first name: Ahmed\n",
      "enter your id: 21\n",
      "enter your second name: Marwan\n",
      "enter your id:  22\n",
      "enter your third name:  Omar\n",
      "enter your id:  23\n",
      "first name: Ahmed \n",
      " second name: Marwan \n",
      " third name: Omar\n",
      "id1: 21 \n",
      " id2: 22 \n",
      " id3:23\n"
     ]
    }
   ],
   "source": [
    "name1 = input('enter your first name: ')\n",
    "id1 = input('enter your id: ')\n",
    "name2 = input('enter your second name: ')\n",
    "id2 = input('enter your id:  ')\n",
    "name3 = input('enter your third name:  ')\n",
    "id3 = input('enter your id:  ')\n",
    "print(f'first name: {name1} \\n second name: {name2} \\n third name: {name3}')\n",
    "print(f'id1: {id1} \\n id2: {id2} \\n id3:{id3}' )\n",
    "\n"
   ]
  },
  {
   "cell_type": "code",
   "execution_count": null,
   "id": "5559c6bb",
   "metadata": {},
   "outputs": [],
   "source": []
  },
  {
   "cell_type": "code",
   "execution_count": null,
   "id": "3b8ab682",
   "metadata": {},
   "outputs": [],
   "source": []
  }
 ],
 "metadata": {
  "kernelspec": {
   "display_name": "Python 3 (ipykernel)",
   "language": "python",
   "name": "python3"
  },
  "language_info": {
   "codemirror_mode": {
    "name": "ipython",
    "version": 3
   },
   "file_extension": ".py",
   "mimetype": "text/x-python",
   "name": "python",
   "nbconvert_exporter": "python",
   "pygments_lexer": "ipython3",
   "version": "3.11.5"
  }
 },
 "nbformat": 4,
 "nbformat_minor": 5
}
